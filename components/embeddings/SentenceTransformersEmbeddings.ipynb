{
 "cells": [
  {
   "cell_type": "code",
   "execution_count": null,
   "metadata": {},
   "outputs": [],
   "source": [
    "import mlflow\n",
    "import mlflow.tracking._model_registry.utils\n",
    "from dotenv import load_dotenv\n",
    "\n",
    "# The login and mlflow model registery are set this way because of local development. If you are running this in Databricks, you can remove the login and use the regualr mlflow registry.\n",
    "\n",
    "load_dotenv()\n",
    "\n",
    "mlflow.login()\n",
    "\n",
    "mlflow.tracking._model_registry.utils._get_registry_uri_from_spark_session = (\n",
    "    lambda: \"databricks-uc\"\n",
    ")\n",
    "\n",
    "mlflow.set_experiment(\"/SentenceTransformersEmbeddings\")"
   ]
  },
  {
   "cell_type": "code",
   "execution_count": null,
   "metadata": {},
   "outputs": [],
   "source": [
    "from sentence_transformers import SentenceTransformer\n",
    "\n",
    "model = SentenceTransformer(\"jinaai/jina-embeddings-v3\", trust_remote_code=True)\n",
    "\n",
    "# The queries should be embedded as a retrieval.query, the documents in the database as retrieval.passage\n",
    "task = \"retrieval.query\"\n",
    "\n",
    "embeddings = model.encode(\n",
    "    [\"What is the weather like in Berlin today?\"],\n",
    "    task=task,\n",
    "    prompt_name=task,\n",
    ")"
   ]
  },
  {
   "cell_type": "code",
   "execution_count": null,
   "metadata": {},
   "outputs": [],
   "source": [
    "example_sentences = [\"A sentence to encode.\", \"Another sentence to encode.\"]\n",
    "\n",
    "signature = mlflow.models.infer_signature(\n",
    "    model_input=example_sentences,\n",
    "    model_output=model.encode(example_sentences),\n",
    ")\n",
    "\n",
    "signature"
   ]
  },
  {
   "cell_type": "code",
   "execution_count": null,
   "metadata": {},
   "outputs": [],
   "source": [
    "# In some caes you might need a custom implementation:\n",
    "# https://mlflow.org/docs/latest/llms/sentence-transformers/guide/\n",
    "\n",
    "# This is a different implementation compared to the Transformer library.\n",
    "# On the ML flow side it is unclear how to define the task type - which influences the embeddings (we might be able to pass this in the inference_config).\n",
    "# https://mlflow.org/docs/latest/api_reference/python_api/mlflow.sentence_transformers.html#mlflow.sentence_transformers.log_model\n",
    "\n",
    "# Furthermore, it is unclear what type of pooling is used - 'mean' is assumed as it is the most common.\n",
    "\n",
    "# The transformers implementation allows for not storing the model weight, the sentence transformers implementation does not.\n",
    "\n",
    "with mlflow.start_run():\n",
    "    model_info = mlflow.sentence_transformers.log_model(\n",
    "        model=model,\n",
    "        artifact_path=\"model\",\n",
    "        signature=signature,\n",
    "        input_example=example_sentences,\n",
    "        pip_requirements=\"../../requirements.txt\",\n",
    "        # task=\"llm/v1/embeddings\",  # this does not seem to convert the sentense transformer to the OpenAI API standard, while the docs mention it should.\n",
    "        inference_config={\"task\": \"retrieval.query\"},\n",
    "    )\n",
    "\n",
    "my_model = mlflow.pyfunc.load_model(model_info.model_uri)"
   ]
  },
  {
   "cell_type": "markdown",
   "metadata": {},
   "source": [
    "# Test the registered model"
   ]
  },
  {
   "cell_type": "code",
   "execution_count": null,
   "metadata": {},
   "outputs": [],
   "source": [
    "my_model.predict({\"input\": \"This is a test sentence.\"})"
   ]
  },
  {
   "cell_type": "code",
   "execution_count": null,
   "metadata": {},
   "outputs": [],
   "source": [
    "my_model.predict(\n",
    "    {\"input\": [\"This is a test sentence.\", \"This is another test sentence.\"]}\n",
    ")"
   ]
  }
 ],
 "metadata": {
  "kernelspec": {
   "display_name": ".venv",
   "language": "python",
   "name": "python3"
  },
  "language_info": {
   "codemirror_mode": {
    "name": "ipython",
    "version": 3
   },
   "file_extension": ".py",
   "mimetype": "text/x-python",
   "name": "python",
   "nbconvert_exporter": "python",
   "pygments_lexer": "ipython3",
   "version": "3.11.11"
  }
 },
 "nbformat": 4,
 "nbformat_minor": 2
}
