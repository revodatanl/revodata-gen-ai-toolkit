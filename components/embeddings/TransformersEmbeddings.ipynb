{
 "cells": [
  {
   "cell_type": "markdown",
   "metadata": {},
   "source": [
    "# Connect to MLflow in Databricks"
   ]
  },
  {
   "cell_type": "code",
   "execution_count": null,
   "metadata": {},
   "outputs": [],
   "source": [
    "import mlflow\n",
    "import mlflow.tracking._model_registry.utils\n",
    "from dotenv import load_dotenv\n",
    "\n",
    "load_dotenv()\n",
    "\n",
    "# The login and mlflow model registery are set this way because of local development. If you are running this in Databricks, you can remove the login and use the regualr mlflow registry.\n",
    "\n",
    "mlflow.login()\n",
    "\n",
    "mlflow.tracking._model_registry.utils._get_registry_uri_from_spark_session = (\n",
    "    lambda: \"databricks-uc\"\n",
    ")\n",
    "\n",
    "mlflow.set_experiment(\"/TransformersEmbeddings\")"
   ]
  },
  {
   "cell_type": "markdown",
   "metadata": {},
   "source": [
    "# Register the model "
   ]
  },
  {
   "cell_type": "code",
   "execution_count": null,
   "metadata": {},
   "outputs": [],
   "source": [
    "# Use a pipeline as a high-level helper\n",
    "from transformers import AutoModel, AutoTokenizer, pipeline\n",
    "\n",
    "# Details:\n",
    "# https://huggingface.co/jinaai/jina-embeddings-v3\n",
    "# https://mlflow.org/docs/latest/llms/deployments#embeddings\n",
    "# https://mlflow.org/docs/latest/llms/transformers/guide/\n",
    "\n",
    "# Other models are also possible\n",
    "model_name = \"jinaai/jina-embeddings-v3\"\n",
    "\n",
    "tokenizer = AutoTokenizer.from_pretrained(model_name)\n",
    "\n",
    "# model = AutoModel.from_pretrained(model_name, trust_remote_code=True, attn_implementation=\"sdpa\", output_attentions=False)\n",
    "model = AutoModel.from_pretrained(\n",
    "    model_name, trust_remote_code=True, attn_implementation=\"eager\"\n",
    ")\n",
    "\n",
    "task = \"retrieval.query\"\n",
    "model._adaptation_map[task]\n",
    "\n",
    "\n",
    "# Feature extraction is the Transformer model task that represents the 'embeddings' task\n",
    "# https://huggingface.co/tasks\n",
    "\n",
    "extractor = pipeline(\n",
    "    \"feature-extraction\",\n",
    "    model=model,\n",
    "    tokenizer=tokenizer,\n",
    "    trust_remote_code=True,\n",
    ")"
   ]
  },
  {
   "cell_type": "code",
   "execution_count": null,
   "metadata": {},
   "outputs": [],
   "source": [
    "# https://mlflow.org/docs/latest/api_reference/python_api/mlflow.transformers.html\n",
    "\n",
    "with mlflow.start_run():\n",
    "    model_info = mlflow.transformers.log_model(\n",
    "        transformers_model=extractor,\n",
    "        artifact_path=\"model\",\n",
    "        task=\"llm/v1/embeddings\",\n",
    "        save_pretrained=False,\n",
    "        pip_requirements=\"../../requirements.txt\",\n",
    "    )\n",
    "\n",
    "my_model = mlflow.pyfunc.load_model(model_info.model_uri)"
   ]
  },
  {
   "cell_type": "markdown",
   "metadata": {},
   "source": [
    "# Test the registered model"
   ]
  },
  {
   "cell_type": "code",
   "execution_count": null,
   "metadata": {},
   "outputs": [],
   "source": [
    "my_model.predict({\"input\": \"This is a test sentence.\"})"
   ]
  },
  {
   "cell_type": "code",
   "execution_count": null,
   "metadata": {},
   "outputs": [],
   "source": [
    "my_model.predict(\n",
    "    {\"input\": [\"This is a test sentence.\", \"This is another test sentence.\"]}\n",
    ")"
   ]
  }
 ],
 "metadata": {
  "kernelspec": {
   "display_name": ".venv",
   "language": "python",
   "name": "python3"
  },
  "language_info": {
   "codemirror_mode": {
    "name": "ipython",
    "version": 3
   },
   "file_extension": ".py",
   "mimetype": "text/x-python",
   "name": "python",
   "nbconvert_exporter": "python",
   "pygments_lexer": "ipython3",
   "version": "3.11.11"
  }
 },
 "nbformat": 4,
 "nbformat_minor": 2
}
