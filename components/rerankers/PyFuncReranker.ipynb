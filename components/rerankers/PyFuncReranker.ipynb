{
 "cells": [
  {
   "cell_type": "markdown",
   "metadata": {},
   "source": [
    "# Connect to MLflow in Databricks"
   ]
  },
  {
   "cell_type": "code",
   "execution_count": null,
   "metadata": {},
   "outputs": [],
   "source": [
    "import mlflow\n",
    "import mlflow.tracking._model_registry.utils\n",
    "from dotenv import load_dotenv\n",
    "\n",
    "load_dotenv()\n",
    "\n",
    "# The login and mlflow model registery are set this way because of local development. If you are running this in Databricks, you can remove the login and use the regualr mlflow registry.\n",
    "\n",
    "mlflow.login()\n",
    "\n",
    "mlflow.tracking._model_registry.utils._get_registry_uri_from_spark_session = (\n",
    "    lambda: \"databricks-uc\"\n",
    ")\n",
    "\n",
    "mlflow.set_experiment(\"/PyFuncReranker\")"
   ]
  },
  {
   "cell_type": "code",
   "execution_count": null,
   "metadata": {},
   "outputs": [],
   "source": [
    "model_inputs = {\n",
    "    \"query\": \"Organic skincare products for sensitive skin\",\n",
    "    \"documents\": [\n",
    "        \"Organic skincare for sensitive skin with aloe vera and chamomile.\",\n",
    "        \"New makeup trends focus on bold colors and innovative techniques\",\n",
    "        \"Bio-Hautpflege für empfindliche Haut mit Aloe Vera und Kamille\",\n",
    "        \"Neue Make-up-Trends setzen auf kräftige Farben und innovative Techniken\",\n",
    "        \"Cuidado de la piel orgánico para piel sensible con aloe vera y manzanilla\",\n",
    "        \"Las nuevas tendencias de maquillaje se centran en colores vivos y técnicas innovadoras\",\n",
    "        \"针对敏感肌专门设计的天然有机护肤产品\",\n",
    "        \"新的化妆趋势注重鲜艳的颜色和创新的技巧\",\n",
    "        \"敏感肌のために特別に設計された天然有機スキンケア製品\",\n",
    "        \"新しいメイクのトレンドは鮮やかな色と革新的な技術に焦点を当てています\",\n",
    "    ],\n",
    "}\n",
    "\n",
    "model_outputs = [\n",
    "    {\n",
    "        \"corpus_id\": 6,\n",
    "        \"score\": 0.9258,\n",
    "        \"text\": \"针对敏感肌专门设计的天然有机护肤产品\",\n",
    "    },\n",
    "    {\n",
    "        \"corpus_id\": 8,\n",
    "        \"score\": 0.8438,\n",
    "        \"text\": \"敏感肌のために特別に設計された天然有機スキンケア製品\",\n",
    "    },\n",
    "    {\n",
    "        \"corpus_id\": 0,\n",
    "        \"score\": 0.8281,\n",
    "        \"text\": \"Organic skincare for sensitive skin with aloe vera and chamomile.\",\n",
    "    },\n",
    "    {\n",
    "        \"corpus_id\": 4,\n",
    "        \"score\": 0.7617,\n",
    "        \"text\": \"Cuidado de la piel orgánico para piel sensible con aloe vera y manzanilla\",\n",
    "    },\n",
    "    {\n",
    "        \"corpus_id\": 2,\n",
    "        \"score\": 0.6289,\n",
    "        \"text\": \"Bio-Hautpflege für empfindliche Haut mit Aloe Vera und Kamille\",\n",
    "    },\n",
    "    {\n",
    "        \"corpus_id\": 9,\n",
    "        \"score\": 0.1128,\n",
    "        \"text\": \"新しいメイクのトレンドは鮮やかな色と革新的な技術に焦点を当てています\",\n",
    "    },\n",
    "    {\n",
    "        \"corpus_id\": 5,\n",
    "        \"score\": 0.0996,\n",
    "        \"text\": \"Las nuevas tendencias de maquillaje se centran en colores vivos y técnicas innovadoras\",\n",
    "    },\n",
    "    {\n",
    "        \"corpus_id\": 1,\n",
    "        \"score\": 0.0952,\n",
    "        \"text\": \"New makeup trends focus on bold colors and innovative techniques\",\n",
    "    },\n",
    "    {\n",
    "        \"corpus_id\": 3,\n",
    "        \"score\": 0.0825,\n",
    "        \"text\": \"Neue Make-up-Trends setzen auf kräftige Farben und innovative Techniken\",\n",
    "    },\n",
    "    {\n",
    "        \"corpus_id\": 7,\n",
    "        \"score\": 0.0593,\n",
    "        \"text\": \"新的化妆趋势注重鲜艳的颜色和创新的技巧\",\n",
    "    },\n",
    "]\n",
    "\n",
    "\n",
    "signature = mlflow.models.infer_signature(\n",
    "    model_input=model_inputs,\n",
    "    model_output=model_outputs,\n",
    ")\n",
    "\n",
    "signature"
   ]
  },
  {
   "cell_type": "markdown",
   "metadata": {},
   "source": [
    "# Register model"
   ]
  },
  {
   "cell_type": "code",
   "execution_count": null,
   "metadata": {},
   "outputs": [],
   "source": [
    "# https://mlflow.org/docs/latest/api_reference/python_api/mlflow.pyfunc.html?highlight=pythonmodel#mlflow.pyfunc.PythonModel\n",
    "\n",
    "with mlflow.start_run():\n",
    "    model_info = mlflow.pyfunc.log_model(\n",
    "        artifact_path=\"model\",\n",
    "        python_model=\"PyFuncReranker.py\",\n",
    "        pip_requirements=\"../requirements.txt\",\n",
    "        input_example=model_inputs,\n",
    "        signature=signature,\n",
    "    )\n",
    "\n",
    "loaded = mlflow.pyfunc.load_model(model_info.model_uri)"
   ]
  },
  {
   "cell_type": "markdown",
   "metadata": {},
   "source": [
    "# Test model"
   ]
  },
  {
   "cell_type": "code",
   "execution_count": null,
   "metadata": {},
   "outputs": [],
   "source": [
    "result = loaded.predict(model_inputs)\n",
    "result"
   ]
  }
 ],
 "metadata": {
  "kernelspec": {
   "display_name": ".venv",
   "language": "python",
   "name": "python3"
  },
  "language_info": {
   "codemirror_mode": {
    "name": "ipython",
    "version": 3
   },
   "file_extension": ".py",
   "mimetype": "text/x-python",
   "name": "python",
   "nbconvert_exporter": "python",
   "pygments_lexer": "ipython3",
   "version": "3.11.11"
  }
 },
 "nbformat": 4,
 "nbformat_minor": 2
}
