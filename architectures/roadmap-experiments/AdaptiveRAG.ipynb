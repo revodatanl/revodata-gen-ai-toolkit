{
 "cells": [
  {
   "cell_type": "code",
   "execution_count": null,
   "metadata": {},
   "outputs": [],
   "source": [
    "%load_ext autoreload\n",
    "%autoreload 2"
   ]
  },
  {
   "cell_type": "code",
   "execution_count": null,
   "metadata": {},
   "outputs": [],
   "source": [
    "from AdaptiveRAG import app"
   ]
  },
  {
   "cell_type": "code",
   "execution_count": null,
   "metadata": {},
   "outputs": [],
   "source": [
    "# Visualize your graph\n",
    "from IPython.display import Image, display\n",
    "\n",
    "png = app.get_graph().draw_mermaid_png()\n",
    "display(Image(png))"
   ]
  },
  {
   "cell_type": "code",
   "execution_count": null,
   "metadata": {},
   "outputs": [],
   "source": [
    "inputs = {\"question\": \"What are the delta live tables best practises??\"}\n",
    "\n",
    "# for output in app.stream(inputs, stream_mode=[\"custom\", \"messages\"], config={\"recursion_limit\": 3}):\n",
    "for output in app.stream(inputs, stream_mode=[\"custom\", \"messages\"]):\n",
    "    if output[0] == \"custom\":\n",
    "        documents = output[1].get(\"documents\")\n",
    "        for document in documents:\n",
    "            print(document.page_content[0:50])\n",
    "            print(\"--------------------------------\")\n",
    "    elif output[0] == \"messages\":\n",
    "        response_metadata = (\n",
    "            output[1].response_metadata\n",
    "            if hasattr(output[1], \"response_metadata\")\n",
    "            else {}\n",
    "        )\n",
    "        additional_kwargs = (\n",
    "            output[1].additional_kwargs\n",
    "            if hasattr(output[1], \"additional_kwargs\")\n",
    "            else {}\n",
    "        )\n",
    "        if not response_metadata and not additional_kwargs:\n",
    "            print(output[1][0].content, end=\"\", flush=True)"
   ]
  }
 ],
 "metadata": {
  "kernelspec": {
   "display_name": ".venv",
   "language": "python",
   "name": "python3"
  },
  "language_info": {
   "codemirror_mode": {
    "name": "ipython",
    "version": 3
   },
   "file_extension": ".py",
   "mimetype": "text/x-python",
   "name": "python",
   "nbconvert_exporter": "python",
   "pygments_lexer": "ipython3",
   "version": "3.12.3"
  }
 },
 "nbformat": 4,
 "nbformat_minor": 2
}
