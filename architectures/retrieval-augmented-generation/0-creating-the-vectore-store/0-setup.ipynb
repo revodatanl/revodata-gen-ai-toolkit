{
 "cells": [
  {
   "cell_type": "markdown",
   "metadata": {},
   "source": [
    "# Set up the required objects in databricks\n"
   ]
  },
  {
   "cell_type": "code",
   "execution_count": null,
   "metadata": {},
   "outputs": [],
   "source": [
    "# Define the catalog, schema, and entity (for the external volume)\n",
    "EXTERNAL_LOCATION = \"insert_location_here\"\n",
    "CATALOG = \"generative_ai_toolkit\"\n",
    "SCHEMA = \"use_cases\"\n",
    "ENTITY = \"models\""
   ]
  },
  {
   "cell_type": "code",
   "execution_count": null,
   "metadata": {},
   "outputs": [],
   "source": [
    "from databricks.connect import DatabricksSession as SparkSession\n",
    "\n",
    "# Connect to a serverless compute instance (only needed when running locally)\n",
    "spark = SparkSession.builder.remote(serverless=True).getOrCreate()"
   ]
  },
  {
   "cell_type": "code",
   "execution_count": null,
   "metadata": {},
   "outputs": [],
   "source": [
    "# Create a catalog\n",
    "spark.sql(\n",
    "    f\"CREATE CATALOG IF NOT EXISTS {CATALOG} MANAGED LOCATION '{EXTERNAL_LOCATION + {CATALOG}}'\"\n",
    ")"
   ]
  },
  {
   "cell_type": "code",
   "execution_count": null,
   "metadata": {},
   "outputs": [],
   "source": [
    "# Create a schema if they do not exist\n",
    "spark.sql(f\"CREATE SCHEMA IF NOT EXISTS {CATALOG}.{SCHEMA}\")"
   ]
  },
  {
   "cell_type": "code",
   "execution_count": null,
   "metadata": {},
   "outputs": [],
   "source": [
    "# Create an external volume to store models downloaded from huggingface\n",
    "spark.sql(\n",
    "    f\"CREATE EXTERNAL VOLUME IF NOT EXISTS {CATALOG}.{SCHEMA}.{ENTITY} LOCATION '{EXTERNAL_LOCATION}/{ENTITY}'\"\n",
    ")"
   ]
  }
 ],
 "metadata": {
  "kernelspec": {
   "display_name": ".venv",
   "language": "python",
   "name": "python3"
  },
  "language_info": {
   "codemirror_mode": {
    "name": "ipython",
    "version": 3
   },
   "file_extension": ".py",
   "mimetype": "text/x-python",
   "name": "python",
   "nbconvert_exporter": "python",
   "pygments_lexer": "ipython3",
   "version": "3.12.3"
  }
 },
 "nbformat": 4,
 "nbformat_minor": 2
}
